{
 "cells": [
  {
   "cell_type": "code",
   "execution_count": 1,
   "metadata": {},
   "outputs": [
    {
     "name": "stdout",
     "output_type": "stream",
     "text": [
      "Total number of records: 2160\n"
     ]
    }
   ],
   "source": [
    "import pandas as pd\n",
    "\n",
    "# Load the dataset\n",
    "file_path = '/Users/syedmohathashimali/Pratice/laptops.csv'  # Update the path if needed\n",
    "df = pd.read_csv(file_path)\n",
    "\n",
    "# Get the number of records\n",
    "record_count = len(df)\n",
    "\n",
    "print(f'Total number of records: {record_count}')\n"
   ]
  },
  {
   "cell_type": "code",
   "execution_count": null,
   "metadata": {},
   "outputs": [],
   "source": [
    "df.head()"
   ]
  },
  {
   "cell_type": "code",
   "execution_count": 3,
   "metadata": {},
   "outputs": [
    {
     "name": "stdout",
     "output_type": "stream",
     "text": [
      "Number of unique laptop brands: 2160\n"
     ]
    }
   ],
   "source": [
    "if 'Laptop' in df.columns:\n",
    "    unique_brands_count = df['Laptop'].nunique()\n",
    "    print(f'Number of unique laptop brands: {unique_brands_count}')\n",
    "else:\n",
    "    print(\"The dataset doesn't contain a 'Laptop_Brand' column.\")\n"
   ]
  },
  {
   "cell_type": "code",
   "execution_count": 4,
   "metadata": {},
   "outputs": [
    {
     "name": "stdout",
     "output_type": "stream",
     "text": [
      "Number of columns with missing values: 3\n"
     ]
    }
   ],
   "source": [
    "missing_values_columns = df.isnull().sum()\n",
    "\n",
    "# Count the columns that have missing values\n",
    "columns_with_missing_values = missing_values_columns[missing_values_columns > 0].count()\n",
    "\n",
    "print(f'Number of columns with missing values: {columns_with_missing_values}')"
   ]
  },
  {
   "cell_type": "code",
   "execution_count": 8,
   "metadata": {},
   "outputs": [
    {
     "name": "stdout",
     "output_type": "stream",
     "text": [
      "Maximum final price of Dell notebooks: nan\n"
     ]
    }
   ],
   "source": [
    "dell_notebooks = df[df['Laptop'] == 'Dell']\n",
    "\n",
    "# Find the maximum final price for Dell notebooks\n",
    "max_final_price = dell_notebooks['Final Price'].max()\n",
    "\n",
    "print(f'Maximum final price of Dell notebooks: {max_final_price}')"
   ]
  },
  {
   "cell_type": "code",
   "execution_count": 9,
   "metadata": {},
   "outputs": [
    {
     "name": "stdout",
     "output_type": "stream",
     "text": [
      "Initial median value of Screen: 15.6\n",
      "Most frequent value in Screen: 15.6\n",
      "New median value of Screen after filling missing values: 15.6\n",
      "The median value has not changed.\n"
     ]
    },
    {
     "name": "stderr",
     "output_type": "stream",
     "text": [
      "/var/folders/5h/3yyjggqx6bn5fvljnm_cy5040000gn/T/ipykernel_14229/3508612691.py:10: FutureWarning: A value is trying to be set on a copy of a DataFrame or Series through chained assignment using an inplace method.\n",
      "The behavior will change in pandas 3.0. This inplace method will never work because the intermediate object on which we are setting values always behaves as a copy.\n",
      "\n",
      "For example, when doing 'df[col].method(value, inplace=True)', try using 'df.method({col: value}, inplace=True)' or df[col] = df[col].method(value) instead, to perform the operation inplace on the original object.\n",
      "\n",
      "\n",
      "  df['Screen'].fillna(most_frequent_value, inplace=True)\n"
     ]
    }
   ],
   "source": [
    "# Calculate the initial median value of the Screen column\n",
    "initial_median = df['Screen'].median()\n",
    "print(f'Initial median value of Screen: {initial_median}')\n",
    "\n",
    "# Calculate the most frequent value in the Screen column\n",
    "most_frequent_value = df['Screen'].mode()[0]  # mode() returns a Series, take the first element\n",
    "print(f'Most frequent value in Screen: {most_frequent_value}')\n",
    "\n",
    "# Fill missing values in the Screen column with the most frequent value\n",
    "df['Screen'].fillna(most_frequent_value, inplace=True)\n",
    "\n",
    "# Calculate the median value of the Screen column again\n",
    "new_median = df['Screen'].median()\n",
    "print(f'New median value of Screen after filling missing values: {new_median}')\n",
    "\n",
    "# Check if the median has changed\n",
    "if initial_median == new_median:\n",
    "    print(\"The median value has not changed.\")\n",
    "else:\n",
    "    print(\"The median value has changed.\")"
   ]
  },
  {
   "cell_type": "code",
   "execution_count": 10,
   "metadata": {},
   "outputs": [],
   "source": [
    "import numpy as np"
   ]
  },
  {
   "cell_type": "code",
   "execution_count": 14,
   "metadata": {},
   "outputs": [
    {
     "name": "stdout",
     "output_type": "stream",
     "text": [
      "Sum of all elements in w: 91.2998806299555\n"
     ]
    }
   ],
   "source": [
    "# Select all the \"Innjoo\" laptops\n",
    "innjoo_laptops = df[df['Brand'] == 'Innjoo']\n",
    "\n",
    "# Select only the columns RAM, Storage, Screen\n",
    "X = innjoo_laptops[['RAM', 'Storage', 'Screen']].to_numpy()\n",
    "\n",
    "# Compute XTX (matrix-matrix multiplication)\n",
    "XTX = X.T @ X\n",
    "\n",
    "# Compute the inverse of XTX\n",
    "XTX_inv = np.linalg.inv(XTX)\n",
    "\n",
    "# Create array y\n",
    "y = np.array([1100, 1300, 800, 900, 1000, 1100])\n",
    "\n",
    "# Compute w\n",
    "w = XTX_inv @ X.T @ y\n",
    "\n",
    "# Compute the sum of all elements in w\n",
    "sum_of_w = np.sum(w)\n",
    "\n",
    "print(f'Sum of all elements in w: {sum_of_w}')\n"
   ]
  }
 ],
 "metadata": {
  "kernelspec": {
   "display_name": "base",
   "language": "python",
   "name": "python3"
  },
  "language_info": {
   "codemirror_mode": {
    "name": "ipython",
    "version": 3
   },
   "file_extension": ".py",
   "mimetype": "text/x-python",
   "name": "python",
   "nbconvert_exporter": "python",
   "pygments_lexer": "ipython3",
   "version": "3.12.2"
  }
 },
 "nbformat": 4,
 "nbformat_minor": 2
}
